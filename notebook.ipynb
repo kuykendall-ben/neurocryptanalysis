{
  "nbformat": 4,
  "nbformat_minor": 0,
  "metadata": {
    "colab": {
      "name": "NeuroCryptanalysis_final.ipynb",
      "provenance": [],
      "collapsed_sections": [],
      "toc_visible": true
    },
    "kernelspec": {
      "name": "python3",
      "display_name": "Python 3"
    }
  },
  "cells": [
    {
      "cell_type": "markdown",
      "metadata": {
        "id": "iQ4hkyHhcOlp"
      },
      "source": [
        "Architectures for Neuro-Cryptanalysis\n",
        "\n",
        "COS485 Project Code\n",
        "\n",
        "12 May 2020\n",
        "\n",
        "Benjamin Kuykendall, Alberto Mizrahi, Abhishek Kumar Singh\n"
      ]
    },
    {
      "cell_type": "markdown",
      "metadata": {
        "id": "CmA9J6TJnSrn"
      },
      "source": [
        "# Imports"
      ]
    },
    {
      "cell_type": "code",
      "metadata": {
        "id": "lee9_PkMcIod",
        "colab": {
          "base_uri": "https://localhost:8080/",
          "height": 207
        },
        "outputId": "31c7bad4-3494-4670-a757-10f7dd3513de"
      },
      "source": [
        "!pip install bitstring"
      ],
      "execution_count": null,
      "outputs": [
        {
          "output_type": "stream",
          "text": [
            "Collecting bitstring\n",
            "\u001b[?25l  Downloading https://files.pythonhosted.org/packages/c3/fc/ffac2c199d2efe1ec5111f55efeb78f5f2972456df6939fea849f103f9f5/bitstring-3.1.7.tar.gz (195kB)\n",
            "\r\u001b[K     |█▊                              | 10kB 16.0MB/s eta 0:00:01\r\u001b[K     |███▍                            | 20kB 2.2MB/s eta 0:00:01\r\u001b[K     |█████                           | 30kB 3.2MB/s eta 0:00:01\r\u001b[K     |██████▊                         | 40kB 3.9MB/s eta 0:00:01\r\u001b[K     |████████▍                       | 51kB 2.6MB/s eta 0:00:01\r\u001b[K     |██████████                      | 61kB 3.1MB/s eta 0:00:01\r\u001b[K     |███████████▊                    | 71kB 3.6MB/s eta 0:00:01\r\u001b[K     |█████████████▍                  | 81kB 4.0MB/s eta 0:00:01\r\u001b[K     |███████████████                 | 92kB 4.5MB/s eta 0:00:01\r\u001b[K     |████████████████▊               | 102kB 3.5MB/s eta 0:00:01\r\u001b[K     |██████████████████▍             | 112kB 3.5MB/s eta 0:00:01\r\u001b[K     |████████████████████            | 122kB 3.5MB/s eta 0:00:01\r\u001b[K     |█████████████████████▊          | 133kB 3.5MB/s eta 0:00:01\r\u001b[K     |███████████████████████▍        | 143kB 3.5MB/s eta 0:00:01\r\u001b[K     |█████████████████████████       | 153kB 3.5MB/s eta 0:00:01\r\u001b[K     |██████████████████████████▉     | 163kB 3.5MB/s eta 0:00:01\r\u001b[K     |████████████████████████████▌   | 174kB 3.5MB/s eta 0:00:01\r\u001b[K     |██████████████████████████████▏ | 184kB 3.5MB/s eta 0:00:01\r\u001b[K     |███████████████████████████████▉| 194kB 3.5MB/s eta 0:00:01\r\u001b[K     |████████████████████████████████| 204kB 3.5MB/s \n",
            "\u001b[?25hBuilding wheels for collected packages: bitstring\n",
            "  Building wheel for bitstring (setup.py) ... \u001b[?25l\u001b[?25hdone\n",
            "  Created wheel for bitstring: filename=bitstring-3.1.7-cp36-none-any.whl size=37948 sha256=013985f8e46ce1bc61abe265a025f3abb32766c10d95baf61a59a14c0e5f7daf\n",
            "  Stored in directory: /root/.cache/pip/wheels/b8/27/f0/8373e26b7de57db03dc18aaaebdd8c26a99da882416f762979\n",
            "Successfully built bitstring\n",
            "Installing collected packages: bitstring\n",
            "Successfully installed bitstring-3.1.7\n"
          ],
          "name": "stdout"
        }
      ]
    },
    {
      "cell_type": "code",
      "metadata": {
        "id": "--BNLUjNcdE2"
      },
      "source": [
        "from IPython import display\n",
        "\n",
        "from bitstring import Bits, BitArray\n",
        "from io import BytesIO\n",
        "import math\n",
        "import matplotlib.pyplot as plt\n",
        "import numpy as np\n",
        "from os import path, mkdir\n",
        "import secrets\n",
        "import struct\n",
        "import time\n",
        "\n",
        "import torch\n",
        "import torchvision\n",
        "import torch.nn as nn\n",
        "from torch.autograd import Variable\n",
        "import torch.nn.functional as F \n",
        "import torch.optim as optim"
      ],
      "execution_count": null,
      "outputs": []
    },
    {
      "cell_type": "markdown",
      "metadata": {
        "id": "jIhQO_Tq8w7I"
      },
      "source": [
        "# DES Encryption"
      ]
    },
    {
      "cell_type": "markdown",
      "metadata": {
        "id": "DTAowOKafa3j"
      },
      "source": [
        "## Binary implementation\n",
        "\n",
        "Quite fast. Good for data generation.\n",
        "\n",
        "Custom fork of [pip DES library](https://github.com/0x10001/des)."
      ]
    },
    {
      "cell_type": "code",
      "metadata": {
        "id": "0Kl8T74Q2lbH"
      },
      "source": [
        "try:\n",
        "    number_type = int, long\n",
        "except NameError:\n",
        "    number_type = int\n",
        "\n",
        "try:\n",
        "    iter_range = xrange\n",
        "except NameError:\n",
        "    iter_range = range\n",
        "\n",
        "\n",
        "INITIAL_PERMUTATION = (\n",
        "    57, 49, 41, 33, 25, 17, 9,  1,\n",
        "    59, 51, 43, 35, 27, 19, 11, 3,\n",
        "    61, 53, 45, 37, 29, 21, 13, 5,\n",
        "    63, 55, 47, 39, 31, 23, 15, 7,\n",
        "    56, 48, 40, 32, 24, 16, 8,  0,\n",
        "    58, 50, 42, 34, 26, 18, 10, 2,\n",
        "    60, 52, 44, 36, 28, 20, 12, 4,\n",
        "    62, 54, 46, 38, 30, 22, 14, 6,\n",
        ")\n",
        "\n",
        "INVERSE_PERMUTATION = (\n",
        "    39, 7,  47, 15, 55, 23, 63, 31,\n",
        "    38, 6,  46, 14, 54, 22, 62, 30,\n",
        "    37, 5,  45, 13, 53, 21, 61, 29,\n",
        "    36, 4,  44, 12, 52, 20, 60, 28,\n",
        "    35, 3,  43, 11, 51, 19, 59, 27,\n",
        "    34, 2,  42, 10, 50, 18, 58, 26,\n",
        "    33, 1,  41, 9,  49, 17, 57, 25,\n",
        "    32, 0,  40, 8,  48, 16, 56, 24,\n",
        ")\n",
        "\n",
        "EXPANSION = (\n",
        "    31, 0,  1,  2,  3,  4,\n",
        "    3,  4,  5,  6,  7,  8,\n",
        "    7,  8,  9,  10, 11, 12,\n",
        "    11, 12, 13, 14, 15, 16,\n",
        "    15, 16, 17, 18, 19, 20,\n",
        "    19, 20, 21, 22, 23, 24,\n",
        "    23, 24, 25, 26, 27, 28,\n",
        "    27, 28, 29, 30, 31, 0,\n",
        ")\n",
        "\n",
        "PERMUTATION = (\n",
        "    15, 6,  19, 20, 28, 11, 27, 16,\n",
        "    0,  14, 22, 25, 4,  17, 30, 9,\n",
        "    1,  7,  23, 13, 31, 26, 2,  8,\n",
        "    18, 12, 29, 5,  21, 10, 3,  24,\n",
        ")\n",
        "\n",
        "PERMUTED_CHOICE1 = (\n",
        "    56, 48, 40, 32, 24, 16, 8,\n",
        "    0,  57, 49, 41, 33, 25, 17,\n",
        "    9,  1,  58, 50, 42, 34, 26,\n",
        "    18, 10, 2,  59, 51, 43, 35,\n",
        "    62, 54, 46, 38, 30, 22, 14,\n",
        "    6,  61, 53, 45, 37, 29, 21,\n",
        "    13, 5,  60, 52, 44, 36, 28,\n",
        "    20, 12, 4,  27, 19, 11, 3,\n",
        ")\n",
        "\n",
        "PERMUTED_CHOICE2 = (\n",
        "    13, 16, 10, 23, 0,  4,\n",
        "    2,  27, 14, 5,  20, 9,\n",
        "    22, 18, 11, 3,  25, 7,\n",
        "    15, 6,  26, 19, 12, 1,\n",
        "    40, 51, 30, 36, 46, 54,\n",
        "    29, 39, 50, 44, 32, 47,\n",
        "    43, 48, 38, 55, 33, 52,\n",
        "    45, 41, 49, 35, 28, 31,\n",
        ")\n",
        "\n",
        "SUBSTITUTION_BOX = (\n",
        "    (\n",
        "        14, 4,  13, 1,  2,  15, 11, 8,  3,  10, 6,  12, 5,  9,  0,  7,\n",
        "        0,  15, 7,  4,  14, 2,  13, 1,  10, 6,  12, 11, 9,  5,  3,  8,\n",
        "        4,  1,  14, 8,  13, 6,  2,  11, 15, 12, 9,  7,  3,  10, 5,  0,\n",
        "        15, 12, 8,  2,  4,  9,  1,  7,  5,  11, 3,  14, 10, 0,  6,  13,\n",
        "    ),\n",
        "    (\n",
        "        15, 1,  8,  14, 6,  11, 3,  4,  9,  7,  2,  13, 12, 0,  5,  10,\n",
        "        3,  13, 4,  7,  15, 2,  8,  14, 12, 0,  1,  10, 6,  9,  11, 5,\n",
        "        0,  14, 7,  11, 10, 4,  13, 1,  5,  8,  12, 6,  9,  3,  2,  15,\n",
        "        13, 8,  10, 1,  3,  15, 4,  2,  11, 6,  7,  12, 0,  5,  14, 9,\n",
        "    ),\n",
        "    (\n",
        "        10, 0,  9,  14, 6,  3,  15, 5,  1,  13, 12, 7,  11, 4,  2,  8,\n",
        "        13, 7,  0,  9,  3,  4,  6,  10, 2,  8,  5,  14, 12, 11, 15, 1,\n",
        "        13, 6,  4,  9,  8,  15, 3,  0,  11, 1,  2,  12, 5,  10, 14, 7,\n",
        "        1,  10, 13, 0,  6,  9,  8,  7,  4,  15, 14, 3,  11, 5,  2,  12,\n",
        "    ),\n",
        "    (\n",
        "        7,  13, 14, 3,  0,  6,  9,  10, 1,  2,  8,  5,  11, 12, 4,  15,\n",
        "        13, 8,  11, 5,  6,  15, 0,  3,  4,  7,  2,  12, 1,  10, 14, 9,\n",
        "        10, 6,  9,  0,  12, 11, 7,  13, 15, 1,  3,  14, 5,  2,  8,  4,\n",
        "        3,  15, 0,  6,  10, 1,  13, 8,  9,  4,  5,  11, 12, 7,  2,  14,\n",
        "    ),\n",
        "    (\n",
        "        2,  12, 4,  1,  7,  10, 11, 6,  8,  5,  3,  15, 13, 0,  14, 9,\n",
        "        14, 11, 2,  12, 4,  7,  13, 1,  5,  0,  15, 10, 3,  9,  8,  6,\n",
        "        4,  2,  1,  11, 10, 13, 7,  8,  15, 9,  12, 5,  6,  3,  0,  14,\n",
        "        11, 8,  12, 7,  1,  14, 2,  13, 6,  15, 0,  9,  10, 4,  5,  3,\n",
        "    ),\n",
        "    (\n",
        "        12, 1,  10, 15, 9,  2,  6,  8,  0,  13, 3,  4,  14, 7,  5,  11,\n",
        "        10, 15, 4,  2,  7,  12, 9,  5,  6,  1,  13, 14, 0,  11, 3,  8,\n",
        "        9,  14, 15, 5,  2,  8,  12, 3,  7,  0,  4,  10, 1,  13, 11, 6,\n",
        "        4,  3,  2,  12, 9,  5,  15, 10, 11, 14, 1,  7,  6,  0,  8,  13,\n",
        "    ),\n",
        "    (\n",
        "        4,  11,  2, 14, 15, 0,  8,  13, 3,  12, 9,  7,  5,  10, 6,  1,\n",
        "        13, 0,  11, 7,  4,  9,  1,  10, 14, 3,  5,  12, 2,  15, 8,  6,\n",
        "        1,  4,  11, 13, 12, 3,  7,  14, 10, 15, 6,  8,  0,  5,  9,  2,\n",
        "        6,  11, 13, 8,  1,  4,  10, 7,  9,  5,  0,  15, 14, 2,  3,  12,\n",
        "    ),\n",
        "    (\n",
        "        13, 2,  8,  4,  6,  15, 11, 1,  10, 9,  3,  14, 5,  0,  12, 7,\n",
        "        1,  15, 13, 8,  10, 3,  7,  4,  12, 5,  6,  11, 0,  14, 9,  2,\n",
        "        7,  11, 4,  1,  9,  12, 14, 2,  0,  6,  10, 13, 15, 3,  5,  8,\n",
        "        2,  1,  14, 7,  4,  10, 8,  13, 15, 12, 9,  0,  3,  5,  6,  11,\n",
        "    ),\n",
        ")\n",
        "\n",
        "ROTATES = (\n",
        "    1, 1, 2, 2, 2, 2, 2, 2, 1, 2, 2, 2, 2, 2, 2, 1,\n",
        ")\n",
        "\n",
        "\n",
        "def rotate_left(i28, k):\n",
        "    return i28 << k & 0x0fffffff | i28 >> 28 - k\n",
        "\n",
        "\n",
        "def permute(data, bits, mapper):\n",
        "    ret = 0\n",
        "    for i, v in enumerate(mapper):\n",
        "        if data & 1 << bits - 1 - v:\n",
        "            ret |= 1 << len(mapper) - 1 - i\n",
        "    return ret\n",
        "\n",
        "def sbox(block):\n",
        "    ret = 0\n",
        "    for i, box in enumerate(SUBSTITUTION_BOX):\n",
        "        i6 = block >> 42 - i * 6 & 0x3f\n",
        "        ret = ret << 4 | box[i6 & 0x20 | (i6 & 0x01) << 4 | (i6 & 0x1e) >> 1]\n",
        "    return ret\n",
        "\n",
        "def f(block, key):\n",
        "    block = permute(block, 32, EXPANSION)\n",
        "    #print(f'post expansion: {Bits(uint=block, length=48).bin}')\n",
        "    block = block ^ key\n",
        "    #print(f'round key: {Bits(uint=key, length=48).bin}')\n",
        "    #print(f'post xor: {Bits(uint=block, length=48).bin}')\n",
        "    ret = 0\n",
        "    for i, box in enumerate(SUBSTITUTION_BOX):\n",
        "        i6 = block >> 42 - i * 6 & 0x3f\n",
        "        ret = ret << 4 | box[i6 & 0x20 | (i6 & 0x01) << 4 | (i6 & 0x1e) >> 1]\n",
        "    #print(f'post sbox: {Bits(uint=ret, length=32).bin}')\n",
        "    ret = permute(ret, 32, PERMUTATION)\n",
        "    #print(f'post permute: {Bits(uint=ret, length=32).bin}')\n",
        "    return ret\n",
        "\n",
        "def derive_keys(key):\n",
        "    key, = struct.unpack(\">Q\", key)\n",
        "    next_key = permute(key, 64, PERMUTED_CHOICE1)\n",
        "    next_key = next_key >> 28, next_key & 0x0fffffff\n",
        "    for bits in ROTATES:\n",
        "        next_key = rotate_left(next_key[0], bits), rotate_left(next_key[1], bits)\n",
        "        yield permute(next_key[0] << 28 | next_key[1], 56, PERMUTED_CHOICE2)\n",
        "\n",
        "\n",
        "def encode_block(block, derived_keys, rounds, encryption):\n",
        "    block = permute(block, 64, INITIAL_PERMUTATION)\n",
        "    #print(f'post Init Perm: {Bits(uint=block, length=64).bin}')\n",
        "    block = block >> 32, block & 0xffffffff\n",
        "\n",
        "    derived_keys = list(derived_keys)[:rounds]\n",
        "    if not encryption:\n",
        "        derived_keys = reversed(derived_keys)\n",
        "    for key in derived_keys:\n",
        "        #print(f'pre block: {Bits(uint=block[1], length=32).bin}')\n",
        "        o = f(block[1], key)\n",
        "        #print(f'post block: {Bits(uint=o, length=32).bin}')\n",
        "        block = block[1], block[0] ^ o\n",
        "\n",
        "    both = block[1] << 32 | block[0]\n",
        "    #print(f'pre Inv Perm: {Bits(uint=both, length=64).bin}')\n",
        "    return permute(both, 64, INVERSE_PERMUTATION)\n",
        "\n",
        "class DesKey(object):\n",
        "    \"\"\"A class for encryption using DES Key\"\"\"\n",
        "    def __init__(self, key):\n",
        "        self.__encryption_key = guard_key(key)\n",
        "        self.__decryption_key = self.__encryption_key[::-1]\n",
        "        self.__key = key\n",
        "\n",
        "    def encrypt(self, message, rounds=16, initial=None, padding=False):\n",
        "        \"\"\"Encrypts the message with the key object.\n",
        "\n",
        "        :param message: {bytes} The message to be encrypted\n",
        "        :param initial: {union[bytes, int, long, NoneType]} The initial value, using CBC Mode when is not None\n",
        "        :param padding: {any} Uses PKCS5 Padding when TRUTHY\n",
        "        :return: {bytes} Encrypted bytes\n",
        "        \"\"\"\n",
        "        return handle(message, self.__encryption_key, rounds, initial, padding, 1)\n",
        "\n",
        "    def decrypt(self, message, rounds=16, initial=None, padding=False):\n",
        "        \"\"\"Decrypts the encrypted message with the key object.\n",
        "\n",
        "        :param message: {bytes} The message to be decrypted\n",
        "        :param initial: {union[bytes, int, long, NoneType]} The initial value, using CBC Mode when is not None\n",
        "        :param padding: {any} Uses PKCS5 Padding when TRUTHY\n",
        "        :return: {bytes} Decrypted bytes\n",
        "        \"\"\"\n",
        "        return handle(message, self.__decryption_key, rounds, initial, padding, 0)\n",
        "\n",
        "    def is_single(self):\n",
        "        \"\"\"Tells if the key object is using Single-DES algorithm.\n",
        "\n",
        "        :return: {bool} True if using DES algorithm or False otherwise\n",
        "        \"\"\"\n",
        "        return len(self.__encryption_key) == 1\n",
        "\n",
        "    def is_triple(self):\n",
        "        \"\"\"Tells if the key object is using Triple-DES algorithm.\n",
        "\n",
        "        :return: {bool} True if using 3DES algorithm or False otherwise\n",
        "        \"\"\"\n",
        "        return len(self.__encryption_key) == 3\n",
        "\n",
        "    def __hash__(self):\n",
        "        return hash((self.__class__, self.__encryption_key))\n",
        "\n",
        "\n",
        "def encode(block, key, rounds, encryption):\n",
        "    for k in key:\n",
        "        block = encode_block(block, k, rounds, encryption)\n",
        "        encryption = not encryption\n",
        "\n",
        "    return block\n",
        "\n",
        "\n",
        "def guard_key(key):\n",
        "    if isinstance(key, bytearray):\n",
        "        key = bytes(key)\n",
        "\n",
        "    assert isinstance(key, bytes), \"The key should be `bytes` or `bytearray`\"\n",
        "    assert len(key) in (8, 16, 24), \"The key should be of length 8, 16, or 24\"\n",
        "\n",
        "    k0, k1, k2 = key[:8], key[8:16], key[16:]\n",
        "    if k1 == k2:\n",
        "        return tuple(derive_keys(k0)),\n",
        "\n",
        "    k2 = k2 or k0\n",
        "    if k1 == k0:\n",
        "        return tuple(derive_keys(k2)),\n",
        "\n",
        "    return tuple(tuple(derive_keys(k)) for k in (k0, k1, k2))\n",
        "\n",
        "\n",
        "def guard_message(message, padding, encryption):\n",
        "    assert isinstance(message, bytes), \"The message should be bytes\"\n",
        "    length = len(message)\n",
        "    if encryption and padding:\n",
        "        return message.ljust(length + 8 >> 3 << 3, bytes((8 - (length & 7), )))\n",
        "\n",
        "    assert length & 7 == 0, (\n",
        "        \"The length of the message should be divisible by 8\"\n",
        "        \"(or set `padding` to `True` in encryption mode)\"\n",
        "    )\n",
        "    return message\n",
        "\n",
        "\n",
        "def guard_initial(initial):\n",
        "    if initial is not None:\n",
        "        if isinstance(initial, bytearray):\n",
        "            initial = bytes(initial)\n",
        "        if isinstance(initial, bytes):\n",
        "            assert len(initial) & 7 == 0, \"The initial value should be of length 8(as `bytes` or `bytearray`)\"\n",
        "            return struct.unpack(\">Q\", initial)[0]\n",
        "        assert isinstance(initial, number_type), \"The initial value should be an integer or bytes object\"\n",
        "        assert -1 < initial < 1 << 32, \"The initial value should be in range [0, 2**32) (as an integer)\"\n",
        "    return initial\n",
        "\n",
        "\n",
        "def handle(message, key, rounds, initial, padding, encryption):\n",
        "    message = guard_message(message, padding, encryption)\n",
        "    initial = guard_initial(initial)\n",
        "\n",
        "    blocks = (struct.unpack(\">Q\", message[i: i + 8])[0] for i in iter_range(0, len(message), 8))\n",
        "\n",
        "    if initial is None:\n",
        "        # ECB\n",
        "        encoded_blocks = ecb(blocks, key, rounds, encryption)\n",
        "    else:\n",
        "        # CBC\n",
        "        encoded_blocks = cbc(blocks, key, rounds, initial, encryption)\n",
        "\n",
        "    ret = b\"\".join(struct.pack(\">Q\", block) for block in encoded_blocks)\n",
        "    return ret[:-ord(ret[-1:])] if not encryption and padding else ret\n",
        "\n",
        "\n",
        "def ecb(blocks, key, rounds, encryption):\n",
        "    for block in blocks:\n",
        "        yield encode(block, key, rounds, encryption)\n",
        "\n",
        "\n",
        "def cbc(blocks, key, rounds, initial, encryption):\n",
        "    if encryption:\n",
        "        for block in blocks:\n",
        "            initial = encode(block ^ initial, key, rounds, encryption)\n",
        "            yield initial\n",
        "    else:\n",
        "        for block in blocks:\n",
        "            initial, block = block, initial ^ encode(block, key, rounds, encryption)\n",
        "            yield block"
      ],
      "execution_count": null,
      "outputs": []
    },
    {
      "cell_type": "markdown",
      "metadata": {
        "id": "whooJnvBfhSr"
      },
      "source": [
        "## PyTorch implementation\n",
        "\n",
        "Differentiable! So we can train through it"
      ]
    },
    {
      "cell_type": "code",
      "metadata": {
        "id": "np04aRzycyxp"
      },
      "source": [
        "def _xor_diff(x, y):\n",
        "  # works everywhere\n",
        "  z = x + y\n",
        "  return torch.relu(z*(2-z))\n",
        "  \n",
        "  # reasonable as long as both in [0,1]\n",
        "  # but sucky to train for some reason?\n",
        "  # return torch.abs(x - y)\n",
        "\n",
        "def torch_perm(pi):\n",
        "  return torch.tensor(pi, dtype=torch.long)\n",
        "\n",
        "# (N, ni) -> (N, n0)\n",
        "def _permute_diff(pi, x):\n",
        "  pi = pi.reshape(1, -1)\n",
        "  pi = pi.expand(x.shape[0], -1)\n",
        "  return torch.gather(x, dim=1, index=pi)\n",
        "\n",
        "INITIAL_PERMUTATION_torch = torch_perm(INITIAL_PERMUTATION)\n",
        "INVERSE_PERMUTATION_torch = torch_perm(INVERSE_PERMUTATION)\n",
        "EXPANSION_torch = torch_perm(EXPANSION)\n",
        "PERMUTATION_torch = torch_perm(PERMUTATION)\n",
        "\n",
        "def INITIAL_PERMUTATION_diff(x):\n",
        "  return _permute_diff(INITIAL_PERMUTATION_torch, x)\n",
        "\n",
        "def INVERSE_PERMUTATION_diff(x):\n",
        "  return _permute_diff(INVERSE_PERMUTATION_torch, x)\n",
        "\n",
        "def EXPANSION_diff(x):\n",
        "  return _permute_diff(EXPANSION_torch, x)\n",
        "\n",
        "def PERMUTATION_diff(x):\n",
        "  return _permute_diff(PERMUTATION_torch, x)\n",
        "\n",
        "def _bitpatterns_6():\n",
        "  y = torch.zeros((2**6, 6))\n",
        "  for i in range(2**6):\n",
        "    bitpattern = Bits(uint=i, length=6)\n",
        "    y[i] = torch.tensor(bitpattern, dtype=torch.float)\n",
        "  \n",
        "  return y\n",
        "\n",
        "BITPATTERNS = _bitpatterns_6()\n",
        "\n",
        "BIT_PERM = [0, 5, 1, 2, 3, 4]\n",
        "\n",
        "def _substitution_box():\n",
        "  y = torch.zeros((8, 2**6, 4))\n",
        "  for i in range(8):\n",
        "    for j in range(2**6):\n",
        "      bits = Bits(uint=j, length=6)\n",
        "      sbox_in = [bits[i] for i in BIT_PERM]\n",
        "      v = Bits(sbox_in).uint\n",
        "      pv = Bits(uint=SUBSTITUTION_BOX[i][v], length=4)\n",
        "      y[i][j] = torch.tensor(pv, dtype=torch.float)\n",
        "  return y\n",
        "\n",
        "SUBSTITUTION_BOX_torch = _substitution_box()\n",
        "\n",
        "def _SUBSTITUTION_BOX_diff(x, i):\n",
        "  batch = x.shape[0]\n",
        "\n",
        "  x = x.reshape(batch, 1, 6)\n",
        "  x = x.expand(batch, 2**6, 6)\n",
        "\n",
        "  pat = BITPATTERNS.reshape(1, 2**6, 6)\n",
        "  pat = pat.expand(batch, 2**6, 6)\n",
        "\n",
        "  # continuous apx of NOR\n",
        "  match = torch.norm(x - pat, dim=2, p=1)\n",
        "  match = torch.clamp(match, 0, 1)\n",
        "  match = 1 - match\n",
        "\n",
        "  # properly weight\n",
        "  # not good... idk why\n",
        "  #match = F.normalize(match, dim=1)\n",
        "  \n",
        "  match = match.reshape(batch, 2**6, 1)\n",
        "  match = match.expand(batch, 2**6, 4)\n",
        "  clauses = torch.mul(match, SUBSTITUTION_BOX_torch[i])\n",
        "\n",
        "  # sum\n",
        "  y = clauses.sum(dim=1)\n",
        "  \n",
        "  # clamp again\n",
        "  # also no good...\n",
        "  #y = torch.clamp(y, 0, 1)\n",
        "\n",
        "  return y\n",
        "\n",
        "def SUBSTITUTION_BOX_diff(x):\n",
        "  batch = x.shape[0]\n",
        "  sbox_in_split = torch.split(x, 6, dim=1)\n",
        "  sbox_out = torch.zeros(batch, 8, 4)\n",
        "  for i, sbox_in in enumerate(sbox_in_split):\n",
        "    sbox_out[:, i] = _SUBSTITUTION_BOX_diff(sbox_in, i)\n",
        "    \n",
        "  return sbox_out.reshape(batch, -1)"
      ],
      "execution_count": null,
      "outputs": []
    },
    {
      "cell_type": "code",
      "metadata": {
        "id": "3UskX5XDde-O"
      },
      "source": [
        "## test DES implementations against eachother\n",
        "\n",
        "# high-level implementation of sbox to help understand bit-twiddly one\n",
        "def plain_sbox(x):\n",
        "  sbox_in_split = np.array_split(x, 8)\n",
        "  sbox_out = []\n",
        "  for i, b in enumerate(sbox_in_split):\n",
        "    sbox_in = [b[i] for i in BIT_PERM]\n",
        "    v = Bits(sbox_in).uint\n",
        "    pv = SUBSTITUTION_BOX[i][v]\n",
        "    sbox_out += Bits(uint=pv, length=4)\n",
        "  return sbox_out\n",
        "\n",
        "def test_permute_diff():\n",
        "  inbytes = secrets.token_bytes(32//8)\n",
        "  inbits = BitArray(inbytes)\n",
        "\n",
        "  y_discrete = permute(inbits.uint, 32, EXPANSION)\n",
        "  y_discrete = Bits(uint=y_discrete, length=48)\n",
        "  y_discrete = torch.tensor(y_discrete, dtype=torch.float)\n",
        "\n",
        "  tensor = torch.tensor(inbits, dtype=torch.float)\n",
        "  tensor = tensor.reshape(1, -1)\n",
        "  pi = torch_perm(EXPANSION)\n",
        "  y_diff = _permute_diff(pi, tensor)\n",
        "  y_diff = y_diff.reshape(-1)\n",
        "\n",
        "  for i in range(48):\n",
        "    assert y_discrete[i] == y_diff[i]\n",
        "\n",
        "def test_sbox_diff():\n",
        "  inbytes = secrets.token_bytes(48//8)\n",
        "  inbits = BitArray(inbytes)\n",
        "\n",
        "  y_plain = plain_sbox(inbits)\n",
        "  y_plain = torch.tensor(y_plain, dtype=torch.float)\n",
        "\n",
        "  y_discrete = sbox(inbits.uint)\n",
        "  y_discrete = Bits(uint=y_discrete, length=32)\n",
        "  y_discrete = torch.tensor(y_discrete, dtype=torch.float)\n",
        "\n",
        "  tensor = torch.tensor(inbits, dtype=torch.float)\n",
        "  tensor = tensor.reshape(1, -1)\n",
        "\n",
        "  y_diff = SUBSTITUTION_BOX_diff(tensor)\n",
        "  y_diff = y_diff.reshape(-1)\n",
        "\n",
        "  for i in range(32):\n",
        "    assert y_discrete[i] == y_diff[i] \n",
        "    assert y_plain[i] == y_discrete[i]\n",
        "\n",
        "test_permute_diff()\n",
        "test_sbox_diff()"
      ],
      "execution_count": null,
      "outputs": []
    },
    {
      "cell_type": "markdown",
      "metadata": {
        "id": "J7HhreMMFO34"
      },
      "source": [
        "# Synthesize data"
      ]
    },
    {
      "cell_type": "code",
      "metadata": {
        "id": "aDeISKNMGkka"
      },
      "source": [
        "# twiddly bit operations and pytorch conversion\n",
        "CHUNK_SIZE = 10000\n",
        "\n",
        "# DES encrypts bytes, but we want bits in torch tensor\n",
        "def to_bits(byteslike):\n",
        "  bits = Bits(byteslike)\n",
        "  return torch.tensor(bits, dtype=torch.float)\n",
        "\n",
        "# optimize for binary files\n",
        "def to_bits_file(f):\n",
        "  bits = Bits([])\n",
        "  chunk = f.read(8 * CHUNK_SIZE)\n",
        "  while chunk:\n",
        "    bits += Bits(chunk)\n",
        "    chunk = f.read(8 * CHUNK_SIZE)\n",
        "\n",
        "  f.close()\n",
        "  return torch.tensor(bits, dtype=torch.bool)\n",
        "\n",
        "# the opposite transformation, for testing\n",
        "def to_bytes(bit_tensor):\n",
        "  bits = Bits(bit_tensor.tolist())\n",
        "  return bits.tobytes()"
      ],
      "execution_count": null,
      "outputs": []
    },
    {
      "cell_type": "code",
      "metadata": {
        "id": "RdXaBCAuq_K1"
      },
      "source": [
        "## dataset size\n",
        "SAMPLES = {\n",
        "    'train': 100000,\n",
        "    'valid': 10000,\n",
        "    'test':  10000,\n",
        "}\n",
        "\n",
        "DSETS = ['train', 'valid', 'test']\n",
        "\n",
        "CIPHERTEXT_SIZE_BYTES = 8"
      ],
      "execution_count": null,
      "outputs": []
    },
    {
      "cell_type": "code",
      "metadata": {
        "id": "oyqkIhUwZPhm"
      },
      "source": [
        "def gen_key(keyfile):\n",
        "  key = secrets.token_bytes(8)\n",
        "  keyfile.write(key)\n",
        "  return DesKey(key)\n",
        "\n",
        "def gen_to_file(samples, des_key, plainfile, cipherfile, rounds):\n",
        "  chunks = samples // CHUNK_SIZE\n",
        "  for i in range(chunks):\n",
        "    plaintext = secrets.token_bytes(CHUNK_SIZE * CIPHERTEXT_SIZE_BYTES)\n",
        "    plainfile.write(plaintext)\n",
        "    cipherfile.write(des_key.encrypt(plaintext, rounds=rounds))\n",
        "\n",
        "def load_from_file(f):\n",
        "  return to_bits_file(f).reshape(-1, 8 * CIPHERTEXT_SIZE_BYTES)\n",
        "\n",
        "# generate in memory for initial testing\n",
        "def gen_dyn(rounds):\n",
        "  d = {}\n",
        "\n",
        "  keyfile = BytesIO()\n",
        "  des_key = gen_key(keyfile)\n",
        "  keyfile.seek(0)\n",
        "  d['key'] = keyfile.read()\n",
        "\n",
        "  d['rounds'] = rounds\n",
        "  \n",
        "  for dset in DSETS:\n",
        "    plainfile = BytesIO()\n",
        "    cipherfile = BytesIO()\n",
        "    gen_to_file(SAMPLES[dset], des_key, plainfile, cipherfile, rounds)\n",
        "    plainfile.seek(0)\n",
        "    cipherfile.seek(0)\n",
        "    d[dest] = {\n",
        "        'plaintext': load_from_file(plainfile),\n",
        "        'ciphertext': load_from_file(cipherfile),\n",
        "    }\n",
        "  \n",
        "  return d\n",
        "\n",
        "# generate to disk for reproducability\n",
        "def generate_data(dir, rounds):\n",
        "    mkdir(dir)\n",
        "\n",
        "    keyfile = open(path.join(dir, 'key.bin'), 'wb')\n",
        "    des_key = gen_key(keyfile)\n",
        "    keyfile.close()\n",
        "\n",
        "    for dset in DSETS:\n",
        "      mkdir(path.join(dir, dset))\n",
        "      plainfile = open(path.join(dir, dset, 'plaintext.bin'), 'wb')\n",
        "      cipherfile = open(path.join(dir, dset, 'ciphertext.bin'), 'wb')\n",
        "      gen_to_file(SAMPLES[dset], des_key, plainfile, cipherfile, rounds)\n",
        "      plainfile.close()\n",
        "      cipherfile.close()\n",
        "\n",
        "def load_data(dir, rounds):\n",
        "  d = {}\n",
        "\n",
        "  d['key'] = open(path.join(dir, 'key.bin'), 'rb').read()\n",
        "  d['rounds'] = rounds\n",
        "\n",
        "  for dset in DSETS:\n",
        "    plainfile = open(path.join(dir, dset, 'plaintext.bin'), 'rb')\n",
        "    cipherfile = open(path.join(dir, dset, 'ciphertext.bin'), 'rb')\n",
        "    d[dset] = {\n",
        "        'plaintext': load_from_file(plainfile),\n",
        "        'ciphertext': load_from_file(cipherfile),\n",
        "    }\n",
        "  \n",
        "  return d"
      ],
      "execution_count": null,
      "outputs": []
    },
    {
      "cell_type": "code",
      "metadata": {
        "id": "ypujhdpgibnM"
      },
      "source": [
        "## run once to generate data, then upload to cs.princeton.edu server\n",
        "\n",
        "# mkdir('data')\n",
        "# generate_data('data/01rounds', 1)\n",
        "# generate_data('data/02rounds', 2)\n",
        "# generate_data('data/03rounds', 3)\n",
        "# generate_data('data/16rounds', 16)\n",
        "\n",
        "#! zip -0 -r data.zip data/"
      ],
      "execution_count": null,
      "outputs": []
    },
    {
      "cell_type": "code",
      "metadata": {
        "id": "q3K0EBe4if5b",
        "colab": {
          "base_uri": "https://localhost:8080/",
          "height": 204
        },
        "outputId": "3f383e31-6495-40bb-d70b-cf24376189db"
      },
      "source": [
        "## download previously generated data\n",
        "## takes a little while to tensorize\n",
        "\n",
        "! rm -rf data data.zip\n",
        "! wget https://www.cs.princeton.edu/~brk/COS485/data.zip\n",
        "! unzip -q data.zip\n",
        "\n",
        "d1 = load_data('data/01rounds', 1)\n",
        "d2 = load_data('data/02rounds', 2)\n",
        "d3 = load_data('data/03rounds', 3)\n",
        "d16 = load_data('data/16rounds', 16)"
      ],
      "execution_count": null,
      "outputs": [
        {
          "output_type": "stream",
          "text": [
            "--2020-05-12 18:40:18--  https://www.cs.princeton.edu/~brk/COS485/data.zip\n",
            "Resolving www.cs.princeton.edu (www.cs.princeton.edu)... 128.112.136.51\n",
            "Connecting to www.cs.princeton.edu (www.cs.princeton.edu)|128.112.136.51|:443... connected.\n",
            "HTTP request sent, awaiting response... 200 OK\n",
            "Length: 7688168 (7.3M) [application/zip]\n",
            "Saving to: ‘data.zip’\n",
            "\n",
            "data.zip            100%[===================>]   7.33M  26.3MB/s    in 0.3s    \n",
            "\n",
            "2020-05-12 18:40:19 (26.3 MB/s) - ‘data.zip’ saved [7688168/7688168]\n",
            "\n"
          ],
          "name": "stdout"
        }
      ]
    },
    {
      "cell_type": "code",
      "metadata": {
        "id": "4vPF8h9Gikds",
        "colab": {
          "base_uri": "https://localhost:8080/",
          "height": 34
        },
        "outputId": "6d20626e-f0f2-4131-adbb-2662636689fe"
      },
      "source": [
        "## verify integrity of downloaded data\n",
        "\n",
        "def verify_cipher(key, plaintext_tensor, ciphertext_tensor, sample_num, rounds):\n",
        "  des_key = DesKey(key)\n",
        "  plaintext = to_bytes(plaintext_tensor[sample_num])\n",
        "  ciphertext = to_bytes(ciphertext_tensor[sample_num])\n",
        "  recovered = des_key.decrypt(ciphertext, rounds=rounds)\n",
        "  assert(plaintext == recovered)\n",
        "\n",
        "i = 0\n",
        "for d in [d1, d2, d3, d16]:\n",
        "  for dset in DSETS:\n",
        "    verify_cipher(d['key'],\n",
        "                  d[dset]['plaintext'],\n",
        "                  d[dset]['ciphertext'],\n",
        "                  SAMPLES[dset] - 1, d['rounds'])\n",
        "    i += 1  \n",
        "\n",
        "assert i == 12\n",
        "print('verified integrity of all data')"
      ],
      "execution_count": null,
      "outputs": [
        {
          "output_type": "stream",
          "text": [
            "verified integrity of all data\n"
          ],
          "name": "stdout"
        }
      ]
    },
    {
      "cell_type": "markdown",
      "metadata": {
        "id": "iFuQaG8ua7_V"
      },
      "source": [
        "# Define Networks"
      ]
    },
    {
      "cell_type": "code",
      "metadata": {
        "id": "CqTQxx_la7_W"
      },
      "source": [
        "## shared constants\n",
        "\n",
        "def id(x):\n",
        "  return x\n",
        "\n",
        "REGRESSION = 0\n",
        "CLASSIFICATION = 1\n",
        "\n",
        "ACTIVATION_HIDDEN = torch.relu\n",
        "ACTIVATION_OUTPUT = {\n",
        "    REGRESSION: torch.sigmoid,\n",
        "    CLASSIFICATION: id\n",
        "}\n",
        "\n",
        "INPUT_SIZE = 64;\n",
        "OUTPUT_SIZE = 64;"
      ],
      "execution_count": null,
      "outputs": []
    },
    {
      "cell_type": "markdown",
      "metadata": {
        "id": "zUah2Sad866q"
      },
      "source": [
        "## Plain NN"
      ]
    },
    {
      "cell_type": "code",
      "metadata": {
        "id": "lQgiG15C8_jl"
      },
      "source": [
        "class CryptoNet_Linear(nn.Module):\n",
        "  def __init__(self, arch, task):\n",
        "    super(CryptoNet_Linear, self).__init__()\n",
        "\n",
        "    self.task = task\n",
        "\n",
        "    self.netSize = len(arch)\n",
        "    self.m = nn.ModuleList()\n",
        "\n",
        "    self.i = nn.Linear(INPUT_SIZE, arch[0])\n",
        "\n",
        "    for i in range(len(arch)-1):\n",
        "      m = nn.Linear(arch[i], arch[i+1])\n",
        "      self.m.append(m);\n",
        "\n",
        "    if task == REGRESSION:\n",
        "      self.o = nn.Linear(arch[-1], OUTPUT_SIZE)\n",
        "    elif task == CLASSIFICATION:\n",
        "      self.o = nn.Linear(arch[-1], 2 * OUTPUT_SIZE)\n",
        "    else:\n",
        "      raise ValueError(\"task must be REGRESSION or CLASSIFICATION\") \n",
        "\n",
        "  def forward(self, x):\n",
        "    x1 = ACTIVATION_HIDDEN(self.i(x))\n",
        "\n",
        "    for i in range(self.netSize-1):\n",
        "      x1 = self.m[i](x1)\n",
        "      x1 = ACTIVATION_HIDDEN(x1)          \n",
        "\n",
        "    x1 = self.o(x1)\n",
        "    x1 = ACTIVATION_OUTPUT[self.task](x1)\n",
        "\n",
        "    if self.task == CLASSIFICATION:\n",
        "      x1 = x1.view(x1.shape[0], 2, -1)\n",
        "\n",
        "    return x1\n",
        "\n",
        "  def initializeWeights(self):\n",
        "    modules = [m for m in self.modules() if isinstance(m, nn.Linear)]\n",
        "    for m in modules:\n",
        "        nn.init.kaiming_uniform_(m.weight, mode='fan_in', nonlinearity='relu')\n",
        "        nn.init.zeros_(m.bias)"
      ],
      "execution_count": null,
      "outputs": []
    },
    {
      "cell_type": "markdown",
      "metadata": {
        "id": "HZbsCG_mO5eB"
      },
      "source": [
        "## Cascading NN"
      ]
    },
    {
      "cell_type": "code",
      "metadata": {
        "id": "m_AqUglbO7Nd"
      },
      "source": [
        "class CryptoNet(nn.Module):\n",
        "  def __init__(self, arch, task):\n",
        "    super(CryptoNet, self).__init__()\n",
        "\n",
        "    self.task = task\n",
        "\n",
        "    self.netSize = len(arch)\n",
        "    self.m = nn.ModuleList()\n",
        "\n",
        "    self.i = nn.Linear(INPUT_SIZE, arch[0])\n",
        "\n",
        "    cumulative_prev = INPUT_SIZE\n",
        "    for i in range(len(arch)-1):\n",
        "      m = nn.Linear(cumulative_prev + arch[i],arch[i+1])\n",
        "      self.m.append(m)\n",
        "      cumulative_prev = cumulative_prev + arch[i]\n",
        "\n",
        "    if task == REGRESSION:\n",
        "      self.o = nn.Linear(cumulative_prev + arch[len(arch)-1], OUTPUT_SIZE)\n",
        "    elif task == CLASSIFICATION:\n",
        "      self.o = nn.Linear(cumulative_prev + arch[len(arch)-1], 2 * OUTPUT_SIZE)\n",
        "    else:\n",
        "      raise ValueError(\"task must be REGRESSION or CLASSIFICATION\")  \n",
        "\n",
        "  def forward(self, x):\n",
        "    x1 = self.i(x)\n",
        "    x1 = ACTIVATION_HIDDEN(x1)\n",
        "    x = torch.cat([x, x1], dim=1)\n",
        "\n",
        "    for i in range(self.netSize-1):\n",
        "      x1 = self.m[i](x)\n",
        "      x1 = ACTIVATION_HIDDEN(x1)     \n",
        "      x = torch.cat([x, x1], dim=1)\n",
        "    \n",
        "    x1 = self.o(x)\n",
        "    x1 = ACTIVATION_OUTPUT[self.task](x1)\n",
        "\n",
        "    if self.task == CLASSIFICATION:\n",
        "      x1 = x1.view(x1.shape[0], 2, -1)\n",
        "\n",
        "    return x1\n",
        "\n",
        "  def initializeWeights(self):\n",
        "    modules = [m for m in self.modules() if isinstance(m, nn.Linear)]\n",
        "    for m in modules:\n",
        "        fan_in = m.weight.shape[1]\n",
        "        nn.init.kaiming_uniform_(m.weight, mode='fan_in', nonlinearity='relu')\n",
        "        nn.init.zeros_(m.bias)"
      ],
      "execution_count": null,
      "outputs": []
    },
    {
      "cell_type": "markdown",
      "metadata": {
        "id": "7wPKtrP7YboO"
      },
      "source": [
        "## RNN"
      ]
    },
    {
      "cell_type": "code",
      "metadata": {
        "id": "4tKazvdMYd1H"
      },
      "source": [
        "class cryptoNetRNN(nn.Module):\n",
        "  def __init__(self,I,R,M1_0,M1_1,rep,task):\n",
        "    super(cryptoNetRNN, self).__init__()\n",
        "\n",
        "    self.task = task;\n",
        "    self.I = nn.Linear(INPUT_SIZE,I);   \n",
        "    self.R = nn.Linear(I+INPUT_SIZE,R);\n",
        "    self.M1_0 = nn.Linear(R+INPUT_SIZE,M1_0);\n",
        "    if M1_1:\n",
        "      self.M1_1 = nn.Linear(M1_0+INPUT_SIZE,M1_1);\n",
        "\n",
        "    self.o = nn.Linear(R+INPUT_SIZE, 2 * OUTPUT_SIZE);\n",
        "    self.rep = rep; \n",
        "    self.isM1_1 = (M1_1>0); \n",
        "\n",
        "\n",
        "  def forward(self, x):\n",
        "                  \n",
        "    x1 = ACTIVATION_HIDDEN(self.I(x));\n",
        "    x1 = torch.cat([x, x1], dim=1);\n",
        "    for rep in range(self.rep-1):\n",
        "      x1 = ACTIVATION_HIDDEN(self.R(x1)); \n",
        "      x1 = torch.cat([x, x1], dim=1);\n",
        "      x1 = ACTIVATION_HIDDEN(self.M1_0(x1));\n",
        "      x1 = torch.cat([x, x1], dim=1);\n",
        "      if self.isM1_1:\n",
        "        x1 = ACTIVATION_HIDDEN(self.M1_1(x1));\n",
        "        x1 = torch.cat([x, x1], dim=1); \n",
        "    x1 = ACTIVATION_HIDDEN(self.R(x1)); \n",
        "    x1 = torch.cat([x, x1], dim=1);\n",
        "    x = self.o(x1);                         #concatenate input and output of current layer to serve as input for the next    \n",
        "    # interpret as class confidences\n",
        "    x = x.view(x.shape[0], 2, -1)\n",
        "\n",
        "    ## no need for softmax with crossentropy loss\n",
        "    # self.sm(x1)\n",
        "    # x1 = x1.view(x1.shape[0], 2, -1)\n",
        "\n",
        "    return x\n",
        "\n",
        "  def initializeWeights(self):\n",
        "    modules = [m for m in self.modules() if isinstance(m, nn.Linear)]\n",
        "    for m in modules:\n",
        "        fan_in = m.weight.shape[1];\n",
        "        # nn.init.normal_(m.weight,0,np.sqrt(2/fan_in));\n",
        "\n",
        "        #nn.init.xavier_uniform_(m.weight, gain=nn.init.calculate_gain('relu'))\n",
        "        nn.init.xavier_normal_(m.weight, gain=nn.init.calculate_gain('relu'))\n",
        "        #nn.init.kaiming_uniform_(m.weight, mode='fan_in', nonlinearity='relu')\n",
        "\n",
        "        nn.init.ones_(m.bias);\n",
        "\n",
        "\n",
        "#Sample calls for an architecture with 4 hidden layers of 128,512,512,128 neurons respectively\n",
        "\n",
        "# model = cryptoNet([128,512,512,128])\n",
        "# iput = torch.rand(64)\n",
        "# oput = model(iput)"
      ],
      "execution_count": null,
      "outputs": []
    },
    {
      "cell_type": "markdown",
      "metadata": {
        "id": "8R8Sszz-eZOL"
      },
      "source": [
        "## Decryptor"
      ]
    },
    {
      "cell_type": "code",
      "metadata": {
        "id": "0ucXFzTf7_eP"
      },
      "source": [
        "class DecodeNet_round(nn.Module):\n",
        "  def __init__(self, rkey=None):\n",
        "    super(DecodeNet_round, self).__init__()\n",
        "\n",
        "    if rkey is None:\n",
        "      self.round_key = nn.Parameter(torch.zeros(48))\n",
        "    else:\n",
        "      self.round_key = nn.Parameter(rkey)\n",
        "\n",
        "  def forward(self, x0, x1):\n",
        "\n",
        "    # force to [0,1] range\n",
        "    #key = torch.sigmoid(self.round_key)\n",
        "    ##key = torch.clamp(self.round_key, 0, 1)\n",
        "    \n",
        "    # or not!\n",
        "    key = self.round_key\n",
        "\n",
        "    block = EXPANSION_diff(x1)\n",
        "    block = _xor_diff(block, key)\n",
        "    block = SUBSTITUTION_BOX_diff(block)\n",
        "    block = PERMUTATION_diff(block)\n",
        "\n",
        "    return x1, _xor_diff(x0, block)\n",
        "\n",
        "  def initializeWeights(self):\n",
        "    nn.init.uniform_(self.round_key, a=0.25, b=0.75)\n",
        "\n",
        "class DecodeNet(nn.Module):\n",
        "  def __init__(self, nrounds, task=REGRESSION, rkeys=None):\n",
        "    super(DecodeNet, self).__init__()\n",
        "    self.nrounds = nrounds\n",
        "    self.task = task\n",
        "\n",
        "    self.rounds = nn.ModuleList()\n",
        "    for i in range(nrounds):\n",
        "      if rkeys is not None:\n",
        "        self.rounds.append(DecodeNet_round(rkeys[i]))\n",
        "      else:\n",
        "        self.rounds.append(DecodeNet_round())\n",
        "\n",
        "  def forward(self, x):\n",
        "    batch = x.shape[0]\n",
        "\n",
        "    x = INITIAL_PERMUTATION_diff(x)\n",
        "\n",
        "    x0, x1 = torch.split(x, 32, dim=1)\n",
        "    \n",
        "    for r in self.rounds:\n",
        "      x0, x1 = r(x0, x1)\n",
        "\n",
        "    x = torch.cat([x1, x0], dim=1)\n",
        "    x = INVERSE_PERMUTATION_diff(x)\n",
        "\n",
        "    if self.task == CLASSIFICATION:\n",
        "      x = torch.stack([1 - x, x], dim=1)\n",
        "\n",
        "    return x\n",
        "\n",
        "  def initializeWeights(self):\n",
        "    for r in self.rounds:\n",
        "      r.initializeWeights()\n",
        "\n",
        "  def log(self, data):\n",
        "    rkeys = list(derive_keys(data[0]))[:self.nrounds]\n",
        "    for r, k in zip(self.rounds, rkeys):\n",
        "      print(r.round_key)\n",
        "      print(Bits(uint=k, length=48).bin)"
      ],
      "execution_count": null,
      "outputs": []
    },
    {
      "cell_type": "markdown",
      "metadata": {
        "id": "_IgIQwS95mez"
      },
      "source": [
        "# Training Harness"
      ]
    },
    {
      "cell_type": "code",
      "metadata": {
        "id": "zkyCTpq32ErU"
      },
      "source": [
        "## plotting\n",
        "\n",
        "def smoothed(t, data):\n",
        "  avg = np.divide(np.cumsum(data[:t+1]), range(1, t+2))\n",
        "\n",
        "  n_last_batches = np.min([20, t])\n",
        "  k = np.ones(n_last_batches * 2 + 1) / (n_last_batches + 1)\n",
        "  k[:n_last_batches] = 0\n",
        "\n",
        "  pad = np.pad(data, mode=\"edge\", pad_width=n_last_batches)\n",
        "  sm = np.convolve(pad, k, mode=\"valid\")[:len(data)]\n",
        "  return (data, avg, sm)\n",
        "\n",
        "def plot_loss(t, loss, biterr, dataset_type):\n",
        "    loss, loss_avg, loss_sm = smoothed(t, loss)\n",
        "    biterr, biterr_avg, biterr_sm = smoothed(t, biterr)\n",
        "\n",
        "    display.clear_output(wait=True)\n",
        "\n",
        "    # only display smoothed lines for clarity\n",
        "\n",
        "    plt.plot(loss_sm, label=\"smothed loss\")\n",
        "    #plt.plot(loss, label=\"loss\")\n",
        "    #plt.plot(loss_avg, label=\"avg loss\")\n",
        "\n",
        "    plt.plot(biterr_sm, label=\"smoothed bit error\")\n",
        "    #plt.plot(biterr, label=\"bit error\")\n",
        "    #plt.plot(biterr_avg, label=\"avg bit error\")\n",
        "\n",
        "    plt.legend()\n",
        "    plt.ylim(0, 1)\n",
        "    plt.title(f'{dataset_type}: loss = {loss[t]:.2f} (sm = {loss_avg[t]:.4f}, avg = {loss_sm[t]:.4f}), \\n\\\n",
        "    biterr = {biterr[t]:.2f} (sm = {biterr_sm[t]:.4f}, avg = {biterr_avg[t]:.4f})')\n",
        "\n",
        "def visualize(t_train, loss_train, be_train, t_val, loss_val, be_val):\n",
        "    plt.subplot(1, 2, 1)\n",
        "    plot_loss(t_train, loss_train, be_train, \"TRAIN\")\n",
        "\n",
        "    plt.subplot(1, 2, 2)\n",
        "    plot_loss(t_val, loss_val, be_val, \"VAL\")\n",
        "    \n",
        "    plt.subplots_adjust(wspace=0.5)\n",
        "    plt.subplots_adjust(hspace=0.5)\n",
        "    plt.gcf().set_size_inches(18.5, 5)\n",
        "    display.display(plt.gcf())"
      ],
      "execution_count": null,
      "outputs": []
    },
    {
      "cell_type": "code",
      "metadata": {
        "id": "DAK5otRW7bKd"
      },
      "source": [
        "BATCH_SIZE = 64\n",
        "ACCEPTABLE_MSE = 10e-4\n",
        "\n",
        "DEFAULT_LEARNING_RATE = 0.001\n",
        "\n",
        "def train(net,\n",
        "          data,\n",
        "          vis=True,\n",
        "          learning_rate=DEFAULT_LEARNING_RATE):\n",
        "\n",
        "  ciphertext_tensor = data['train']['ciphertext'].float()\n",
        "  plaintext_tensor = data['train']['plaintext'].long()\n",
        "\n",
        "  valid_ciphertext_tensor = data['valid']['ciphertext'].float()\n",
        "  valid_plaintext_tensor = data['valid']['plaintext'].long()\n",
        "\n",
        "  losses_train = []\n",
        "  biterr_train = []\n",
        "  losses_val= []\n",
        "  biterr_val = []\n",
        "\n",
        "  # Adam seems fine; could switch it up\n",
        "  optimizer = torch.optim.Adam(net.parameters(), lr=learning_rate)\n",
        "\n",
        "  # feel free to play with annealing\n",
        "  #scheduler = torch.optim.lr_scheduler.ExponentialLR(optimizer, 0.95)\n",
        "  \n",
        "  if net.task == CLASSIFICATION:\n",
        "    loss_fn = nn.CrossEntropyLoss()\n",
        "\n",
        "    def compute_loss(preds, targets):\n",
        "      return loss_fn(preds, targets)\n",
        "\n",
        "    def bit_err(preds, targets):\n",
        "      plaintext_guesses = plaintext_preds.argmax(dim = 1)\n",
        "      return torch.mean(torch.abs(plaintext_guesses - plaintext_targets).float())\n",
        "\n",
        "  elif net.task == REGRESSION:\n",
        "    loss_fn = nn.MSELoss()\n",
        "\n",
        "    def compute_loss(preds, targets):\n",
        "      return loss_fn(preds, targets.float())\n",
        "\n",
        "    def bit_err(preds, targets):\n",
        "      plaintext_guesses = plaintext_preds.round()\n",
        "      return torch.mean(torch.abs(plaintext_guesses - plaintext_targets).float())\n",
        "  \n",
        "  else:\n",
        "    raise ValueError('net task must be REGRESSION or CLASSIFICATION')\n",
        "\n",
        "  # end up cutting off training manually anyway\n",
        "  # enough data that epoch vs sample with replacement does not matter\n",
        "  for t in range(120000):\n",
        "    batch_indices = np.random.choice(SAMPLES['train'], BATCH_SIZE)\n",
        "    plaintext_targets = plaintext_tensor[batch_indices, :]\n",
        "    ciphertext_examples = ciphertext_tensor[batch_indices, :]\n",
        "\n",
        "    # before the forward pass, clean the gradient buffers of all parameters\n",
        "    optimizer.zero_grad()\n",
        "\n",
        "    # forward pass\n",
        "    plaintext_preds = net(ciphertext_examples)\n",
        "\n",
        "    # loss\n",
        "    loss = compute_loss(plaintext_preds, plaintext_targets)\n",
        "      \n",
        "    # bit error\n",
        "    biterr = bit_err(plaintext_preds, plaintext_targets)\n",
        "\n",
        "    # backward pass\n",
        "    loss.backward()\n",
        "        \n",
        "    # update parameters\n",
        "    optimizer.step()\n",
        "\n",
        "    # scheduler (disabled)\n",
        "    #scheduler.step()\n",
        "\n",
        "    losses_train.append(loss.clone().detach().numpy())\n",
        "    biterr_train.append(biterr.detach().numpy())\n",
        "\n",
        "    # calculate loss on validation batch\n",
        "    batch_indices = np.random.choice(SAMPLES['valid'], BATCH_SIZE//4)\n",
        "    plaintext_targets = valid_plaintext_tensor[batch_indices, :]\n",
        "    ciphertext_examples = valid_ciphertext_tensor[batch_indices, :]\n",
        "    plaintext_preds = net(ciphertext_examples)\n",
        "\n",
        "    loss = compute_loss(plaintext_preds, plaintext_targets)\n",
        "    biterr = bit_err(plaintext_preds, plaintext_targets)\n",
        "\n",
        "    losses_val.append(loss.detach().numpy())\n",
        "    biterr_val.append(biterr.detach().numpy())\n",
        "\n",
        "    if vis and (t + 1) % 100 == 0:\n",
        "      plt.gcf().clear()\n",
        "      visualize(len(losses_train) - 1, losses_train, biterr_train,\n",
        "                len(losses_val) - 1, losses_val, biterr_val)\n",
        "      \n",
        "      # optional: additional custom vis from model\n",
        "      log = getattr(net, \"log\", None)\n",
        "      if callable(log):\n",
        "        log(data)\n",
        "\n",
        "      time.sleep(0.01)\n",
        "  return net"
      ],
      "execution_count": null,
      "outputs": []
    },
    {
      "cell_type": "markdown",
      "metadata": {
        "id": "HoqjSITmrYzi"
      },
      "source": [
        "#Model selection"
      ]
    },
    {
      "cell_type": "code",
      "metadata": {
        "id": "S7d-vOAc8hCz",
        "colab": {
          "base_uri": "https://localhost:8080/",
          "height": 34
        },
        "outputId": "028fe7be-e85b-40be-b4f2-7a6b4461a2c8"
      },
      "source": [
        "crypto_net_linear = CryptoNet_Linear([128, 256, 512, 256, 128], task=CLASSIFICATION)\n",
        "crypto_net_linear.initializeWeights()\n",
        "train(crypto_net_linear, d2, learning_rate=0.0003)"
      ],
      "execution_count": null,
      "outputs": [
        {
          "output_type": "stream",
          "text": [
            "Buffered data was truncated after reaching the output size limit."
          ],
          "name": "stdout"
        }
      ]
    },
    {
      "cell_type": "code",
      "metadata": {
        "id": "94Tk52wPrYQh",
        "colab": {
          "base_uri": "https://localhost:8080/",
          "height": 997
        },
        "outputId": "1d47338f-1e7e-4c3b-ab4f-ba99962a16d0"
      },
      "source": [
        "crypto_net = CryptoNet([128,256,256,128], task=CLASSIFICATION)\n",
        "crypto_net.initializeWeights()\n",
        "train(crypto_net, d2, learning_rate=0.0006)"
      ],
      "execution_count": null,
      "outputs": [
        {
          "output_type": "display_data",
          "data": {
            "image/png": "[encoded data removed]",
            "text/plain": [
              "<Figure size 1332x360 with 2 Axes>"
            ]
          },
          "metadata": {
            "tags": []
          }
        },
        {
          "output_type": "error",
          "ename": "KeyboardInterrupt",
          "evalue": "ignored",
          "traceback": [
            "\u001b[0;31m---------------------------------------------------------------------------\u001b[0m",
            "\u001b[0;31mKeyboardInterrupt\u001b[0m                         Traceback (most recent call last)",
            "\u001b[0;32m<ipython-input-31-0e0179a9ae39>\u001b[0m in \u001b[0;36m<module>\u001b[0;34m()\u001b[0m\n\u001b[1;32m      1\u001b[0m \u001b[0mcrypto_net\u001b[0m \u001b[0;34m=\u001b[0m \u001b[0mCryptoNet\u001b[0m\u001b[0;34m(\u001b[0m\u001b[0;34m[\u001b[0m\u001b[0;36m128\u001b[0m\u001b[0;34m,\u001b[0m\u001b[0;36m256\u001b[0m\u001b[0;34m,\u001b[0m\u001b[0;36m256\u001b[0m\u001b[0;34m,\u001b[0m\u001b[0;36m128\u001b[0m\u001b[0;34m]\u001b[0m\u001b[0;34m,\u001b[0m \u001b[0mtask\u001b[0m\u001b[0;34m=\u001b[0m\u001b[0mCLASSIFICATION\u001b[0m\u001b[0;34m)\u001b[0m\u001b[0;34m\u001b[0m\u001b[0;34m\u001b[0m\u001b[0m\n\u001b[1;32m      2\u001b[0m \u001b[0mcrypto_net\u001b[0m\u001b[0;34m.\u001b[0m\u001b[0minitializeWeights\u001b[0m\u001b[0;34m(\u001b[0m\u001b[0;34m)\u001b[0m\u001b[0;34m\u001b[0m\u001b[0;34m\u001b[0m\u001b[0m\n\u001b[0;32m----> 3\u001b[0;31m \u001b[0mtrain\u001b[0m\u001b[0;34m(\u001b[0m\u001b[0mcrypto_net\u001b[0m\u001b[0;34m,\u001b[0m \u001b[0md2\u001b[0m\u001b[0;34m,\u001b[0m \u001b[0mlearning_rate\u001b[0m\u001b[0;34m=\u001b[0m\u001b[0;36m0.0006\u001b[0m\u001b[0;34m)\u001b[0m\u001b[0;34m\u001b[0m\u001b[0;34m\u001b[0m\u001b[0m\n\u001b[0m",
            "\u001b[0;32m<ipython-input-20-2c470de5548d>\u001b[0m in \u001b[0;36mtrain\u001b[0;34m(net, data, vis, learning_rate)\u001b[0m\n\u001b[1;32m     69\u001b[0m \u001b[0;34m\u001b[0m\u001b[0m\n\u001b[1;32m     70\u001b[0m     \u001b[0;31m# backward pass\u001b[0m\u001b[0;34m\u001b[0m\u001b[0;34m\u001b[0m\u001b[0;34m\u001b[0m\u001b[0m\n\u001b[0;32m---> 71\u001b[0;31m     \u001b[0mloss\u001b[0m\u001b[0;34m.\u001b[0m\u001b[0mbackward\u001b[0m\u001b[0;34m(\u001b[0m\u001b[0;34m)\u001b[0m\u001b[0;34m\u001b[0m\u001b[0;34m\u001b[0m\u001b[0m\n\u001b[0m\u001b[1;32m     72\u001b[0m \u001b[0;34m\u001b[0m\u001b[0m\n\u001b[1;32m     73\u001b[0m     \u001b[0;31m# update parameters\u001b[0m\u001b[0;34m\u001b[0m\u001b[0;34m\u001b[0m\u001b[0;34m\u001b[0m\u001b[0m\n",
            "\u001b[0;32m/usr/local/lib/python3.6/dist-packages/torch/tensor.py\u001b[0m in \u001b[0;36mbackward\u001b[0;34m(self, gradient, retain_graph, create_graph)\u001b[0m\n\u001b[1;32m    196\u001b[0m                 \u001b[0mproducts\u001b[0m\u001b[0;34m.\u001b[0m \u001b[0mDefaults\u001b[0m \u001b[0mto\u001b[0m\u001b[0;31m \u001b[0m\u001b[0;31m`\u001b[0m\u001b[0;31m`\u001b[0m\u001b[0;32mFalse\u001b[0m\u001b[0;31m`\u001b[0m\u001b[0;31m`\u001b[0m\u001b[0;34m.\u001b[0m\u001b[0;34m\u001b[0m\u001b[0;34m\u001b[0m\u001b[0m\n\u001b[1;32m    197\u001b[0m         \"\"\"\n\u001b[0;32m--> 198\u001b[0;31m         \u001b[0mtorch\u001b[0m\u001b[0;34m.\u001b[0m\u001b[0mautograd\u001b[0m\u001b[0;34m.\u001b[0m\u001b[0mbackward\u001b[0m\u001b[0;34m(\u001b[0m\u001b[0mself\u001b[0m\u001b[0;34m,\u001b[0m \u001b[0mgradient\u001b[0m\u001b[0;34m,\u001b[0m \u001b[0mretain_graph\u001b[0m\u001b[0;34m,\u001b[0m \u001b[0mcreate_graph\u001b[0m\u001b[0;34m)\u001b[0m\u001b[0;34m\u001b[0m\u001b[0;34m\u001b[0m\u001b[0m\n\u001b[0m\u001b[1;32m    199\u001b[0m \u001b[0;34m\u001b[0m\u001b[0m\n\u001b[1;32m    200\u001b[0m     \u001b[0;32mdef\u001b[0m \u001b[0mregister_hook\u001b[0m\u001b[0;34m(\u001b[0m\u001b[0mself\u001b[0m\u001b[0;34m,\u001b[0m \u001b[0mhook\u001b[0m\u001b[0;34m)\u001b[0m\u001b[0;34m:\u001b[0m\u001b[0;34m\u001b[0m\u001b[0;34m\u001b[0m\u001b[0m\n",
            "\u001b[0;32m/usr/local/lib/python3.6/dist-packages/torch/autograd/__init__.py\u001b[0m in \u001b[0;36mbackward\u001b[0;34m(tensors, grad_tensors, retain_graph, create_graph, grad_variables)\u001b[0m\n\u001b[1;32m     98\u001b[0m     Variable._execution_engine.run_backward(\n\u001b[1;32m     99\u001b[0m         \u001b[0mtensors\u001b[0m\u001b[0;34m,\u001b[0m \u001b[0mgrad_tensors\u001b[0m\u001b[0;34m,\u001b[0m \u001b[0mretain_graph\u001b[0m\u001b[0;34m,\u001b[0m \u001b[0mcreate_graph\u001b[0m\u001b[0;34m,\u001b[0m\u001b[0;34m\u001b[0m\u001b[0;34m\u001b[0m\u001b[0m\n\u001b[0;32m--> 100\u001b[0;31m         allow_unreachable=True)  # allow_unreachable flag\n\u001b[0m\u001b[1;32m    101\u001b[0m \u001b[0;34m\u001b[0m\u001b[0m\n\u001b[1;32m    102\u001b[0m \u001b[0;34m\u001b[0m\u001b[0m\n",
            "\u001b[0;31mKeyboardInterrupt\u001b[0m: "
          ]
        },
        {
          "output_type": "display_data",
          "data": {
            "image/png": "[encoded data removed]",
            "text/plain": [
              "<Figure size 1332x360 with 2 Axes>"
            ]
          },
          "metadata": {
            "tags": [],
            "needs_background": "light"
          }
        }
      ]
    },
    {
      "cell_type": "code",
      "metadata": {
        "id": "m8EGRioNaUKI",
        "colab": {
          "base_uri": "https://localhost:8080/",
          "height": 653
        },
        "outputId": "338b88e6-f894-46ee-b533-553070fdfffc"
      },
      "source": [
        "crypto_net_rnn = cryptoNetRNN(256,512,256,256,2,task=CLASSIFICATION)\n",
        "crypto_net_rnn.initializeWeights()\n",
        "crypto_net_rnn = train(crypto_net_rnn, d2, learning_rate=0.0005)"
      ],
      "execution_count": null,
      "outputs": [
        {
          "output_type": "display_data",
          "data": {
            "image/png": "[encoded data removed]",
            "text/plain": [
              "<Figure size 1332x360 with 2 Axes>"
            ]
          },
          "metadata": {
            "tags": []
          }
        },
        {
          "output_type": "display_data",
          "data": {
            "image/png": "[encoded data removed]",
            "text/plain": [
              "<Figure size 1332x360 with 2 Axes>"
            ]
          },
          "metadata": {
            "tags": [],
            "needs_background": "light"
          }
        }
      ]
    },
    {
      "cell_type": "code",
      "metadata": {
        "id": "ENBiOihODmOG"
      },
      "source": [
        "decryptor_net = DecodeNet(2, CLASSIFICATION)\n",
        "decryptor_net.initializeWeights()\n",
        "train(decryptor_net, d2, learning_rate=0.001)"
      ],
      "execution_count": null,
      "outputs": []
    },
    {
      "cell_type": "code",
      "metadata": {
        "id": "xUB2s4wLMRrg",
        "colab": {
          "base_uri": "https://localhost:8080/",
          "height": 653
        },
        "outputId": "c464c232-5b4c-457a-e41f-4a6e2a6ab239"
      },
      "source": [
        "crypto_net_rnn_base = cryptoNetRNN(128,256,128,0,2,task=CLASSIFICATION)\n",
        "crypto_net_rnn_base.initializeWeights()\n",
        "crypto_net_rnn_base = train(crypto_net_rnn_base, d2, learning_rate=0.0005)"
      ],
      "execution_count": null,
      "outputs": [
        {
          "output_type": "display_data",
          "data": {
            "image/png": "[encoded data removed]",
            "text/plain": [
              "<Figure size 1332x360 with 2 Axes>"
            ]
          },
          "metadata": {
            "tags": []
          }
        },
        {
          "output_type": "display_data",
          "data": {
            "image/png": "[encoded data removed]",
            "text/plain": [
              "<Figure size 1332x360 with 2 Axes>"
            ]
          },
          "metadata": {
            "tags": [],
            "needs_background": "light"
          }
        }
      ]
    },
    {
      "cell_type": "markdown",
      "metadata": {
        "id": "7q8mwLPevnaR"
      },
      "source": [
        "# Evaluation"
      ]
    },
    {
      "cell_type": "code",
      "metadata": {
        "id": "QbbCOWXhsKxh"
      },
      "source": [
        "def test(net,data):\n",
        "  test_ciphertext_tensor = data['test']['ciphertext'].float()\n",
        "  test_plaintext_tensor = data['test']['plaintext'].long()\n",
        "\n",
        "  if net.task == CLASSIFICATION:\n",
        "    loss_fn = nn.CrossEntropyLoss()\n",
        "\n",
        "    def compute_loss(preds, targets):\n",
        "      return loss_fn(preds, targets)\n",
        "\n",
        "    def bit_err(preds, targets):\n",
        "      plaintext_guesses = plaintext_preds.argmax(dim = 1)\n",
        "      return torch.mean(torch.abs(plaintext_guesses - plaintext_targets).float())\n",
        "  elif net.task == REGRESSION:\n",
        "    loss_fn = nn.MSELoss()\n",
        "\n",
        "    def compute_loss(preds, targets):\n",
        "      return loss_fn(preds, targets.float())\n",
        "\n",
        "    def bit_err(preds, targets):\n",
        "      plaintext_guesses = plaintext_preds.round()\n",
        "      return torch.mean(torch.abs(plaintext_guesses - plaintext_targets).float())\n",
        "  else:\n",
        "    raise ValueError('net task must be REGRESSION or CLASSIFICATION')\n",
        "\n",
        "  losses_test = []\n",
        "  biterr_test = []\n",
        "  for i in range(500):\n",
        "    batch_indices = np.random.choice(SAMPLES['test'], BATCH_SIZE//4)\n",
        "    plaintext_targets = test_plaintext_tensor[batch_indices, :]\n",
        "    ciphertext_examples = test_ciphertext_tensor[batch_indices, :]\n",
        "    plaintext_preds = net(ciphertext_examples)\n",
        "\n",
        "    loss = compute_loss(plaintext_preds, plaintext_targets)\n",
        "    biterr = bit_err(plaintext_preds, plaintext_targets)\n",
        "\n",
        "    losses_test.append(loss.detach().numpy())\n",
        "    biterr_test.append(biterr.detach().numpy())\n",
        "  print('Test BER of model:')\n",
        "  print(np.mean(biterr_test))\n"
      ],
      "execution_count": null,
      "outputs": []
    },
    {
      "cell_type": "code",
      "metadata": {
        "id": "xLuLQpUwvhts",
        "colab": {
          "base_uri": "https://localhost:8080/",
          "height": 51
        },
        "outputId": "4336ce2b-a4bc-48b3-de7e-61fd763476bd"
      },
      "source": [
        "test(crypto_net_rnn,d2)"
      ],
      "execution_count": null,
      "outputs": [
        {
          "output_type": "stream",
          "text": [
            "Test BER of model:\n",
            "0.2507207\n"
          ],
          "name": "stdout"
        }
      ]
    },
    {
      "cell_type": "code",
      "metadata": {
        "id": "7j2_AWdg3Ig_",
        "colab": {
          "base_uri": "https://localhost:8080/",
          "height": 51
        },
        "outputId": "1bdf073d-0b47-4b28-94d8-522d779a3073"
      },
      "source": [
        "test(crypto_net,d2)"
      ],
      "execution_count": null,
      "outputs": [
        {
          "output_type": "stream",
          "text": [
            "Test BER of model:\n",
            "0.2487832\n"
          ],
          "name": "stdout"
        }
      ]
    },
    {
      "cell_type": "code",
      "metadata": {
        "id": "mXmlm95bXc3I",
        "colab": {
          "base_uri": "https://localhost:8080/",
          "height": 51
        },
        "outputId": "47c411e9-f1ca-4695-fe7d-7325b0a435f2"
      },
      "source": [
        "test(crypto_net_rnn_base,d2)"
      ],
      "execution_count": null,
      "outputs": [
        {
          "output_type": "stream",
          "text": [
            "Test BER of model:\n",
            "0.3059336\n"
          ],
          "name": "stdout"
        }
      ]
    }
  ]
}